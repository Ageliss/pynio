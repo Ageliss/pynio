{
 "metadata": {
  "name": ""
 },
 "nbformat": 3,
 "nbformat_minor": 0,
 "worksheets": [
  {
   "cells": [
    {
     "cell_type": "heading",
     "level": 1,
     "metadata": {},
     "source": [
      "Using PyNIO to create a NetCDF4 file, which includes group, and variety of types"
     ]
    },
    {
     "cell_type": "heading",
     "level": 1,
     "metadata": {},
     "source": [
      "import numpy, Nio, etc."
     ]
    },
    {
     "cell_type": "code",
     "collapsed": false,
     "input": [
      "import numpy \n",
      "import Nio \n",
      "import time, os"
     ],
     "language": "python",
     "metadata": {},
     "outputs": [],
     "prompt_number": 29
    },
    {
     "cell_type": "heading",
     "level": 2,
     "metadata": {},
     "source": [
      "Set the created file NetCDF4"
     ]
    },
    {
     "cell_type": "code",
     "collapsed": false,
     "input": [
      "opt = Nio.options()\n",
      "opt.Format = 'NetCDF4'\n",
      "\n",
      "print opt.Format"
     ],
     "language": "python",
     "metadata": {},
     "outputs": [
      {
       "output_type": "stream",
       "stream": "stdout",
       "text": [
        "NetCDF4\n"
       ]
      }
     ],
     "prompt_number": 30
    },
    {
     "cell_type": "heading",
     "level": 2,
     "metadata": {},
     "source": [
      "Create the file"
     ]
    },
    {
     "cell_type": "code",
     "collapsed": false,
     "input": [
      "#create a file\n",
      "hatt = \"Created at \" + time.ctime(time.time())\n",
      "fn = \"pynio_created.nc\"\n",
      "if(os.path.isfile(fn)):\n",
      "    os.remove(fn)\n",
      "file = Nio.open_file(fn, options=opt, history=hatt, mode=\"w\")\n",
      "\n",
      "print file"
     ],
     "language": "python",
     "metadata": {},
     "outputs": [
      {
       "output_type": "stream",
       "stream": "stdout",
       "text": [
        "Nio file:\tpynio_created.nc\n",
        "      history : Created at Fri Apr 18 07:47:04 2014\n",
        "   dimensions:\n",
        "   variables:\n",
        "\n"
       ]
      }
     ],
     "prompt_number": 31
    },
    {
     "cell_type": "heading",
     "level": 2,
     "metadata": {},
     "source": [
      "Add some attributes to the file"
     ]
    },
    {
     "cell_type": "code",
     "collapsed": false,
     "input": [
      "#create global attributes\n",
      "file.source   = \"Nio created NetCDF4 file\"\n",
      "#setattr(file, 'source', \"Nio test NetCDF file\")\n",
      "#file.history = \"Created \" + time.ctime(time.time())\n",
      "\n",
      "print file"
     ],
     "language": "python",
     "metadata": {},
     "outputs": [
      {
       "output_type": "stream",
       "stream": "stdout",
       "text": [
        "Nio file:\tpynio_created.nc\n",
        "      history : Created at Fri Apr 18 07:47:04 2014\n",
        "      source : Nio created NetCDF4 file\n",
        "   dimensions:\n",
        "   variables:\n",
        "\n"
       ]
      }
     ],
     "prompt_number": 32
    },
    {
     "cell_type": "heading",
     "level": 2,
     "metadata": {},
     "source": [
      "Create groups"
     ]
    },
    {
     "cell_type": "code",
     "collapsed": false,
     "input": [
      "#Create some groups.\n",
      "forecast = file.create_group(\"forecast\")\n",
      "analysis = file.create_group(\"analysis\")\n",
      "\n",
      "fmdl1 = forecast.create_group(\"model1\")\n",
      "fmdl2 = forecast.create_group(\"model2\")\n",
      "amdl1 = analysis.create_group(\"model1\")\n",
      "amdl2 = analysis.create_group(\"model2\")\n",
      "\n",
      "print \"file:\\n\", file\n",
      "print \"forecast:\\n\", forecast\n",
      "print \"analysis:\\n\", analysis"
     ],
     "language": "python",
     "metadata": {},
     "outputs": [
      {
       "output_type": "stream",
       "stream": "stdout",
       "text": [
        "file:\n",
        "Nio file:\tpynio_created.nc\n",
        "      history : Created at Fri Apr 18 07:47:04 2014\n",
        "      source : Nio created NetCDF4 file\n",
        "   dimensions:\n",
        "   variables:\n",
        "Nio group <forecast>:\tpynio_created.nc\n",
        "   dimensions:\n",
        "   variables:\n",
        "Nio group <model1>:\tpynio_created.nc\n",
        "   dimensions:\n",
        "   variables:\n",
        "\n",
        "Nio group <model2>:\tpynio_created.nc\n",
        "   dimensions:\n",
        "   variables:\n",
        "\n",
        "\n",
        "Nio group <analysis>:\tpynio_created.nc\n",
        "   dimensions:\n",
        "   variables:\n",
        "Nio group <model1>:\tpynio_created.nc\n",
        "   dimensions:\n",
        "   variables:\n",
        "\n",
        "Nio group <model2>:\tpynio_created.nc\n",
        "   dimensions:\n",
        "   variables:\n",
        "\n",
        "\n",
        "\n",
        "forecast:\n",
        "Nio file:\tforecast\n",
        "   dimensions:\n",
        "   variables:\n",
        "Nio group <model1>:\tforecast\n",
        "   dimensions:\n",
        "   variables:\n",
        "\n",
        "Nio group <model2>:\tforecast\n",
        "   dimensions:\n",
        "   variables:\n",
        "\n",
        "\n",
        "analysis:\n",
        "Nio file:\tanalysis\n",
        "   dimensions:\n",
        "   variables:\n",
        "Nio group <model1>:\tanalysis\n",
        "   dimensions:\n",
        "   variables:\n",
        "\n",
        "Nio group <model2>:\tanalysis\n",
        "   dimensions:\n",
        "   variables:\n",
        "\n",
        "\n"
       ]
      }
     ],
     "prompt_number": 33
    },
    {
     "cell_type": "heading",
     "level": 2,
     "metadata": {},
     "source": [
      "Create dimensions to group \"forecast/model1\""
     ]
    },
    {
     "cell_type": "code",
     "collapsed": false,
     "input": [
      "ntimes = 5\n",
      "nlevels = 10\n",
      "nlats = 73\n",
      "nlons = 144\n",
      "\n",
      "#Create some dimensions.\n",
      "fmdl1.create_dimension(\"time\", None)\n",
      "fmdl1.create_dimension(\"level\", None)\n",
      "fmdl1.create_dimension(\"lat\", nlats)\n",
      "fmdl1.create_dimension(\"lon\", nlons)\n",
      "\n",
      "print \"fmdl1:\"\n",
      "print fmdl1"
     ],
     "language": "python",
     "metadata": {},
     "outputs": [
      {
       "output_type": "stream",
       "stream": "stdout",
       "text": [
        "fmdl1:\n",
        "Nio file:\tmodel1\n",
        "   dimensions:\n",
        "      time = 1 // unlimited\n",
        "      level = 1 // unlimited\n",
        "      lat = 73\n",
        "      lon = 144\n",
        "   variables:\n",
        "\n"
       ]
      }
     ],
     "prompt_number": 34
    },
    {
     "cell_type": "heading",
     "level": 2,
     "metadata": {},
     "source": [
      "Create variables"
     ]
    },
    {
     "cell_type": "code",
     "collapsed": false,
     "input": [
      "#Create some variables.\n",
      "time  = fmdl1.create_variable(\"time\",  \"d\", (\"time\",))\n",
      "level = fmdl1.create_variable(\"level\", \"i\", (\"level\",))\n",
      "lat   = fmdl1.create_variable(\"lat\",   \"f\", (\"lat\",))\n",
      "lon   = fmdl1.create_variable(\"lon\",   \"f\", (\"lon\",))\n",
      "temp  = fmdl1.create_variable(\"temp\" , \"f\", (\"time\", \"level\", \"lat\", \"lon\"))\n",
      "#temp  = fmdl1.create_variable(\"temp\" , \"d\", (\"time\", \"level\", \"lat\", \"lon\"))\n",
      "\n",
      "print \"fmdl1:\"\n",
      "print fmdl1"
     ],
     "language": "python",
     "metadata": {},
     "outputs": [
      {
       "output_type": "stream",
       "stream": "stdout",
       "text": [
        "fmdl1:\n",
        "Nio file:\tmodel1\n",
        "   dimensions:\n",
        "      time = 1 // unlimited\n",
        "      level = 1 // unlimited\n",
        "      lat = 73\n",
        "      lon = 144\n",
        "   variables:\n",
        "   double time [ time|1 ]\t \n",
        "\n",
        "   integer level [ level|1 ]\t \n",
        "\n",
        "   float lat [ lat|73 ]\t \n",
        "\n",
        "   float lon [ lon|144 ]\t \n",
        "\n",
        "   float temp [ time|1, level|1, lat|73, lon|144 ]\t \n",
        "\n",
        "\n"
       ]
      }
     ],
     "prompt_number": 35
    },
    {
     "cell_type": "heading",
     "level": 2,
     "metadata": {},
     "source": [
      "Add attributes to variables"
     ]
    },
    {
     "cell_type": "code",
     "collapsed": false,
     "input": [
      "#Specify attributes.\n",
      "time.units = \"hours since 0001-01-01 00:00:00.0\"\n",
      "time.calendar = \"gregorian\"\n",
      "level.units = \"hPa\"\n",
      "lat.units = \"degrees north\"\n",
      "lon.units = \"degrees east\"\n",
      "temp.units = \"K\"\n",
      "#setattr(fmdl1.variables['temp'], 'units', 'K')\n",
      "\n",
      "print \"fmdl1:\"\n",
      "print fmdl1"
     ],
     "language": "python",
     "metadata": {},
     "outputs": [
      {
       "output_type": "stream",
       "stream": "stdout",
       "text": [
        "fmdl1:\n",
        "Nio file:\tmodel1\n",
        "   dimensions:\n",
        "      time = 1 // unlimited\n",
        "      level = 1 // unlimited\n",
        "      lat = 73\n",
        "      lon = 144\n",
        "   variables:\n",
        "   double time [ time|1 ]\t \n",
        "      units : hours since 0001-01-01 00:00:00.0\n",
        "      calendar : gregorian\n",
        "\n",
        "   integer level [ level|1 ]\t \n",
        "      units : hPa\n",
        "\n",
        "   float lat [ lat|73 ]\t \n",
        "      units : degrees north\n",
        "\n",
        "   float lon [ lon|144 ]\t \n",
        "      units : degrees east\n",
        "\n",
        "   float temp [ time|1, level|1, lat|73, lon|144 ]\t \n",
        "      units : K\n",
        "\n",
        "\n"
       ]
      }
     ],
     "prompt_number": 36
    },
    {
     "cell_type": "heading",
     "level": 2,
     "metadata": {},
     "source": [
      "Assign value to variable \"time\", \"level\" (and write them to file)"
     ]
    },
    {
     "cell_type": "code",
     "collapsed": false,
     "input": [
      "#fill in variables.\n",
      "time[:] = [0.0, 12.0, 24.0, 36.0, 48.0]\n",
      "level[:] =  [1000, 850, 700, 500, 300, 250, 200, 150, 100, 50]\n",
      "\n",
      "print('time shape = ', time.shape)\n",
      "print('level shape = ', level.shape)\n",
      "\n",
      "#tshape = time.shape\n",
      "#lshape = level.shape\n",
      "#print('time shape = ', tshape[0])\n",
      "#print('level shape = ', lshape[0])\n",
      "\n",
      "#fmdl1.set_dimension(\"time\", tshape[0])\n",
      "#fmdl1.set_dimension(\"level\", lshape[0])"
     ],
     "language": "python",
     "metadata": {},
     "outputs": [
      {
       "output_type": "stream",
       "stream": "stdout",
       "text": [
        "('time shape = ', (5,))\n",
        "('level shape = ', (10,))\n"
       ]
      }
     ],
     "prompt_number": 37
    },
    {
     "cell_type": "heading",
     "level": 2,
     "metadata": {},
     "source": [
      "Create lat and lon value using numpy"
     ]
    },
    {
     "cell_type": "code",
     "collapsed": false,
     "input": [
      "latvalues = numpy.arange(-90, 91, 2.5, 'float32')\n",
      "lonvalues = numpy.arange(-180, 180, 2.5, 'float32')\n",
      "#print('lat =\\n',latvalues[:])\n",
      "#print('lon =\\n',lonvalues[:])"
     ],
     "language": "python",
     "metadata": {},
     "outputs": [],
     "prompt_number": 38
    },
    {
     "cell_type": "heading",
     "level": 2,
     "metadata": {},
     "source": [
      "Create temp variable (value)"
     ]
    },
    {
     "cell_type": "code",
     "collapsed": false,
     "input": [
      "from numpy.random.mtrand import uniform # random number generator.\n",
      "tempvalues = uniform(200.0, 300.0, size=(ntimes, nlevels, nlats, nlons))\n",
      "#print('temp shape = ', tempvalues.shape)\n",
      "#print('temp dtype = ', tempvalues.dtype)\n",
      "#print tempvalues\n",
      "ftempvalues = numpy.ndarray(shape=(ntimes, nlevels, nlats, nlons), dtype=numpy.float32)\n",
      "#ftempvalues = numpy.array(tempvalues, dtype=numpy.float)\n",
      "#ftempvalues = tempvalues.view('float32')\n",
      "#ftempvalues = tempvalues\n",
      "\n",
      "print('ftemp dtype = ', ftempvalues.dtype)\n",
      "ftempvalues[:,:,:,:] = tempvalues[:,:,:,:]\n",
      "\n",
      "print('ftemp shape = ', ftempvalues.shape)\n",
      "print('ftemp dtype = ', ftempvalues.dtype)\n",
      "print \"max: %f, min: %f\" %(numpy.amax(tempvalues), numpy.amin(tempvalues))\n",
      "print \"max: %f, min: %f\" %(numpy.amax(ftempvalues), numpy.amin(ftempvalues))\n",
      "\n",
      "fmdl1.variables['time'][:] = time\n",
      "fmdl1.variables['level'][:] = level\n",
      "fmdl1.variables['lat'][:] = latvalues\n",
      "fmdl1.variables['lon'][:] = lonvalues\n",
      "fmdl1.variables['temp'][:,:,:,:] = ftempvalues\n",
      "#fmdl1.variables['lat'].assign_value(latvalues)\n",
      "#fmdl1.variables['lon'].assign_value(lonvalues)\n",
      "#fmdl1.variables['temp'].assign_value(ftempvalues)\n"
     ],
     "language": "python",
     "metadata": {},
     "outputs": [
      {
       "ename": "TypeError",
       "evalue": "issubclass() arg 1 must be a class",
       "output_type": "pyerr",
       "traceback": [
        "\u001b[0;31m---------------------------------------------------------------------------\u001b[0m\n\u001b[0;31mTypeError\u001b[0m                                 Traceback (most recent call last)",
        "\u001b[0;32m/Users/huangwei/anaconda/lib/python2.7/site-packages/IPython/core/interactiveshell.pyc\u001b[0m in \u001b[0;36mrun_code\u001b[0;34m(self, code_obj)\u001b[0m\n\u001b[1;32m   2836\u001b[0m             \u001b[0mself\u001b[0m\u001b[0;34m.\u001b[0m\u001b[0mCustomTB\u001b[0m\u001b[0;34m(\u001b[0m\u001b[0metype\u001b[0m\u001b[0;34m,\u001b[0m\u001b[0mvalue\u001b[0m\u001b[0;34m,\u001b[0m\u001b[0mtb\u001b[0m\u001b[0;34m)\u001b[0m\u001b[0;34m\u001b[0m\u001b[0m\n\u001b[1;32m   2837\u001b[0m         \u001b[0;32mexcept\u001b[0m\u001b[0;34m:\u001b[0m\u001b[0;34m\u001b[0m\u001b[0m\n\u001b[0;32m-> 2838\u001b[0;31m             \u001b[0mself\u001b[0m\u001b[0;34m.\u001b[0m\u001b[0mshowtraceback\u001b[0m\u001b[0;34m(\u001b[0m\u001b[0;34m)\u001b[0m\u001b[0;34m\u001b[0m\u001b[0m\n\u001b[0m\u001b[1;32m   2839\u001b[0m         \u001b[0;32melse\u001b[0m\u001b[0;34m:\u001b[0m\u001b[0;34m\u001b[0m\u001b[0m\n\u001b[1;32m   2840\u001b[0m             \u001b[0moutflag\u001b[0m \u001b[0;34m=\u001b[0m \u001b[0;36m0\u001b[0m\u001b[0;34m\u001b[0m\u001b[0m\n",
        "\u001b[0;32m/Users/huangwei/anaconda/lib/python2.7/site-packages/IPython/core/interactiveshell.pyc\u001b[0m in \u001b[0;36mshowtraceback\u001b[0;34m(self, exc_tuple, filename, tb_offset, exception_only)\u001b[0m\n\u001b[1;32m   1700\u001b[0m                 \u001b[0;32mreturn\u001b[0m\u001b[0;34m\u001b[0m\u001b[0m\n\u001b[1;32m   1701\u001b[0m \u001b[0;34m\u001b[0m\u001b[0m\n\u001b[0;32m-> 1702\u001b[0;31m             \u001b[0;32mif\u001b[0m \u001b[0missubclass\u001b[0m\u001b[0;34m(\u001b[0m\u001b[0metype\u001b[0m\u001b[0;34m,\u001b[0m \u001b[0mSyntaxError\u001b[0m\u001b[0;34m)\u001b[0m\u001b[0;34m:\u001b[0m\u001b[0;34m\u001b[0m\u001b[0m\n\u001b[0m\u001b[1;32m   1703\u001b[0m                 \u001b[0;31m# Though this won't be called by syntax errors in the input\u001b[0m\u001b[0;34m\u001b[0m\u001b[0;34m\u001b[0m\u001b[0m\n\u001b[1;32m   1704\u001b[0m                 \u001b[0;31m# line, there may be SyntaxError cases with imported code.\u001b[0m\u001b[0;34m\u001b[0m\u001b[0;34m\u001b[0m\u001b[0m\n",
        "\u001b[0;31mTypeError\u001b[0m: issubclass() arg 1 must be a class"
       ]
      },
      {
       "output_type": "stream",
       "stream": "stdout",
       "text": [
        "('ftemp dtype = ', dtype('float32'))\n",
        "('ftemp shape = ', (5, 10, 73, 144))\n",
        "('ftemp dtype = ', dtype('float32'))\n",
        "max: 299.999355, min: 200.000282\n",
        "max: 299.999359, min: 200.000275\n"
       ]
      }
     ],
     "prompt_number": 39
    },
    {
     "cell_type": "heading",
     "level": 1,
     "metadata": {},
     "source": [
      "Write variety of types"
     ]
    },
    {
     "cell_type": "heading",
     "level": 2,
     "metadata": {},
     "source": [
      "write double"
     ]
    },
    {
     "cell_type": "code",
     "collapsed": false,
     "input": [
      "#test data types\n",
      "nx = 2\n",
      "#Create dimension.\n",
      "amdl1.create_dimension(\"x\", nx)\n",
      "\n",
      "#Create some variables.\n",
      "vdbl = amdl1.create_variable(\"vdbl\", \"d\", (\"x\",))\n",
      "vdbl[:] = numpy.array([0.1234456789, 1.2345678901], numpy.double)\n",
      "amdl1.variables['vdbl'][:] = vdbl\n",
      "\n",
      "print \"vdbl:\"\n",
      "print vdbl"
     ],
     "language": "python",
     "metadata": {},
     "outputs": [
      {
       "ename": "TypeError",
       "evalue": "issubclass() arg 1 must be a class",
       "output_type": "pyerr",
       "traceback": [
        "\u001b[0;31m---------------------------------------------------------------------------\u001b[0m\n\u001b[0;31mTypeError\u001b[0m                                 Traceback (most recent call last)",
        "\u001b[0;32m/Users/huangwei/anaconda/lib/python2.7/site-packages/IPython/core/interactiveshell.pyc\u001b[0m in \u001b[0;36mrun_code\u001b[0;34m(self, code_obj)\u001b[0m\n\u001b[1;32m   2836\u001b[0m             \u001b[0mself\u001b[0m\u001b[0;34m.\u001b[0m\u001b[0mCustomTB\u001b[0m\u001b[0;34m(\u001b[0m\u001b[0metype\u001b[0m\u001b[0;34m,\u001b[0m\u001b[0mvalue\u001b[0m\u001b[0;34m,\u001b[0m\u001b[0mtb\u001b[0m\u001b[0;34m)\u001b[0m\u001b[0;34m\u001b[0m\u001b[0m\n\u001b[1;32m   2837\u001b[0m         \u001b[0;32mexcept\u001b[0m\u001b[0;34m:\u001b[0m\u001b[0;34m\u001b[0m\u001b[0m\n\u001b[0;32m-> 2838\u001b[0;31m             \u001b[0mself\u001b[0m\u001b[0;34m.\u001b[0m\u001b[0mshowtraceback\u001b[0m\u001b[0;34m(\u001b[0m\u001b[0;34m)\u001b[0m\u001b[0;34m\u001b[0m\u001b[0m\n\u001b[0m\u001b[1;32m   2839\u001b[0m         \u001b[0;32melse\u001b[0m\u001b[0;34m:\u001b[0m\u001b[0;34m\u001b[0m\u001b[0m\n\u001b[1;32m   2840\u001b[0m             \u001b[0moutflag\u001b[0m \u001b[0;34m=\u001b[0m \u001b[0;36m0\u001b[0m\u001b[0;34m\u001b[0m\u001b[0m\n",
        "\u001b[0;32m/Users/huangwei/anaconda/lib/python2.7/site-packages/IPython/core/interactiveshell.pyc\u001b[0m in \u001b[0;36mshowtraceback\u001b[0;34m(self, exc_tuple, filename, tb_offset, exception_only)\u001b[0m\n\u001b[1;32m   1700\u001b[0m                 \u001b[0;32mreturn\u001b[0m\u001b[0;34m\u001b[0m\u001b[0m\n\u001b[1;32m   1701\u001b[0m \u001b[0;34m\u001b[0m\u001b[0m\n\u001b[0;32m-> 1702\u001b[0;31m             \u001b[0;32mif\u001b[0m \u001b[0missubclass\u001b[0m\u001b[0;34m(\u001b[0m\u001b[0metype\u001b[0m\u001b[0;34m,\u001b[0m \u001b[0mSyntaxError\u001b[0m\u001b[0;34m)\u001b[0m\u001b[0;34m:\u001b[0m\u001b[0;34m\u001b[0m\u001b[0m\n\u001b[0m\u001b[1;32m   1703\u001b[0m                 \u001b[0;31m# Though this won't be called by syntax errors in the input\u001b[0m\u001b[0;34m\u001b[0m\u001b[0;34m\u001b[0m\u001b[0m\n\u001b[1;32m   1704\u001b[0m                 \u001b[0;31m# line, there may be SyntaxError cases with imported code.\u001b[0m\u001b[0;34m\u001b[0m\u001b[0;34m\u001b[0m\u001b[0m\n",
        "\u001b[0;31mTypeError\u001b[0m: issubclass() arg 1 must be a class"
       ]
      },
      {
       "output_type": "stream",
       "stream": "stdout",
       "text": [
        "vdbl:\n"
       ]
      }
     ],
     "prompt_number": 40
    },
    {
     "cell_type": "code",
     "collapsed": false,
     "input": [
      "\n",
      "\n",
      "vflt = amdl1.create_variable(\"vflt\", \"f\", (\"x\",))\n",
      "vflt[:] = [0.1234456, 1.234567]\n",
      "amdl1.variables['vflt'][:] = vdbl\n",
      "\n",
      "vint64 = amdl1.create_variable(\"vint64\", \"q\", (\"x\",))\n",
      "vint64[:] = numpy.array([-12344567890, 12345678901234], numpy.int64)\n",
      "amdl1.variables['vint64'][:] = vint64\n",
      "\n",
      "vuint64 = amdl1.create_variable(\"vuint64\", \"Q\", (\"x\",))\n",
      "vuint64[:] = numpy.array([1234456789, 1234567890123], numpy.uint64)\n",
      "amdl1.variables['vuint64'][:] = vuint64\n",
      "\n",
      "vlong = amdl1.create_variable(\"vlong\", \"l\", (\"x\",))\n",
      "vlong[:] = numpy.array([-1234567, 7654321], numpy.int64)\n",
      "amdl1.variables['vlong'][:] = vlong\n",
      "\n",
      "vulong = amdl1.create_variable(\"vulong\", \"L\", (\"x\",))\n",
      "vulong[:] = numpy.array([1234567, 87654321], numpy.uint64)\n",
      "amdl1.variables['vulong'][:] = vulong\n",
      "\n",
      "vint = amdl1.create_variable(\"vint\", \"i\", (\"x\",))\n",
      "vint[:] = numpy.array([-1234456, 1234567], numpy.int32)\n",
      "amdl1.variables['vint'][:] = vint\n"
     ],
     "language": "python",
     "metadata": {},
     "outputs": [],
     "prompt_number": 41
    },
    {
     "cell_type": "code",
     "collapsed": false,
     "input": [
      "vuint = amdl1.create_variable(\"vuint\", \"I\", (\"x\",))\n",
      "vuint[:] = numpy.array([1234456, 234567], numpy.uint32)\n",
      "amdl1.variables['vuint'][:] = vuint\n",
      "\n",
      "vshort = amdl1.create_variable(\"vshort\", \"h\", (\"x\",))\n",
      "vshort[:] = numpy.array([-12345, 12345], numpy.int16)\n",
      "amdl1.variables['vshort'][:] = vshort\n",
      "\n",
      "vushort = amdl1.create_variable(\"vushort\", \"H\", (\"x\",))\n",
      "vushort[:] = numpy.array([12345, 23451], numpy.uint16)\n",
      "amdl1.variables['vushort'][:] = vushort\n",
      "\n",
      "vbyte = amdl1.create_variable(\"vbyte\", \"b\", (\"x\",))\n",
      "vbyte[:] = numpy.array([-123, 123], numpy.int8)\n",
      "amdl1.variables['vbyte'][:] = vbyte\n",
      "\n",
      "vubyte = amdl1.create_variable(\"vubyte\", \"B\", (\"x\",))\n",
      "vubyte[:] = numpy.array([123, 234], numpy.uint8)\n",
      "amdl1.variables['vubyte'][:] = vubyte\n",
      "\n",
      "#vchar = amdl1.create_variable(\"vchar\", \"c\", (\"x\",))\n",
      "#vchar[:] = numpy.chararray([23, 123], numpy.chararray)\n",
      "#amdl1.variables['vchar'][:] = vchar\n",
      "\n",
      "vlogical = amdl1.create_variable(\"vlogical\", \"?\", (\"x\",))\n",
      "#vlogical[:] = numpy.array([0, 1], numpy.int32)\n",
      "vlogical[:] = [0, 1]\n",
      "amdl1.variables['vlogical'][:] = vlogical\n",
      "\n",
      "vstring = amdl1.create_variable(\"vstring\", \"S1\", (\"x\",))\n",
      "vstring[:] = [\"abcdef\", \"XYZ\"]\n",
      "amdl1.variables['vstring'][:] = vstring\n",
      "\n"
     ],
     "language": "python",
     "metadata": {},
     "outputs": [],
     "prompt_number": 42
    },
    {
     "cell_type": "heading",
     "level": 2,
     "metadata": {},
     "source": [
      "Close the file"
     ]
    },
    {
     "cell_type": "code",
     "collapsed": false,
     "input": [
      "file.close()"
     ],
     "language": "python",
     "metadata": {},
     "outputs": [],
     "prompt_number": 43
    },
    {
     "cell_type": "code",
     "collapsed": false,
     "input": [],
     "language": "python",
     "metadata": {},
     "outputs": [],
     "prompt_number": 43
    }
   ],
   "metadata": {}
  }
 ]
}